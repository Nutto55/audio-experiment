{
 "cells": [
  {
   "cell_type": "markdown",
   "metadata": {},
   "source": [
    "## 90-s Augmented Dataset\n",
    "\n",
    "The idea of 90-s overlaying audio is random the object number 3-7 segments, change the `loudness` of object audio(e.g.vehicle) to be equal to the base audio(environment), random the begin time. Then, random apply gain to the object audio before doing the overlay. (Option 2)\n",
    "<img src=\"image.png\" width=\"500\" height=\"300\">"
   ]
  },
  {
   "cell_type": "markdown",
   "metadata": {},
   "source": [
    "#### Setup"
   ]
  },
  {
   "cell_type": "code",
   "execution_count": 1,
   "metadata": {},
   "outputs": [
    {
     "name": "stdout",
     "output_type": "stream",
     "text": [
      "Create: I:/datasets/vehicle/random_environment/jun-jul2020/augmented/vehicle\n"
     ]
    }
   ],
   "source": [
    "import os\n",
    "import random\n",
    "from pydub import AudioSegment\n",
    "\n",
    "tgt_path = \"I:/datasets/vehicle/dataset/v1/test_set/vehicle\"\n",
    "env_path = \"I:/datasets/vehicle/random_environment/jun-jul2020/before_augmented/wav/vehicle\"\n",
    "dst_path = \"I:/datasets/vehicle/random_environment/jun-jul2020/augmented/vehicle\"\n",
    "\n",
    "\n",
    "tgt_files = os.listdir(tgt_path)\n",
    "env_files = os.listdir(env_path)\n",
    "\n",
    "if not os.path.exists(dst_path):\n",
    "    os.makedirs(dst_path)\n",
    "    print(\"Create:\", dst_path)"
   ]
  },
  {
   "cell_type": "markdown",
   "metadata": {},
   "source": [
    "#### Overlay"
   ]
  },
  {
   "cell_type": "code",
   "execution_count": 2,
   "metadata": {},
   "outputs": [],
   "source": [
    "def custom_apply_gain(base_decibel, audio, gain):\n",
    "    # Set the audio loudness equal to the base_decibel\n",
    "    decibel_differential = base_decibel - audio.dBFS\n",
    "    audio = audio.apply_gain(decibel_differential)\n",
    "    # Apply gain to the audio\n",
    "    return audio.apply_gain(gain)"
   ]
  },
  {
   "cell_type": "code",
   "execution_count": 3,
   "metadata": {},
   "outputs": [
    {
     "name": "stdout",
     "output_type": "stream",
     "text": [
      "Success: 0 files 5 64000\n",
      "Success: 100 files 6 9000\n",
      "Success: 200 files 5 56000\n",
      "Success: 300 files 5 8000\n",
      "Success: 400 files 5 65000\n",
      "Success: 500 files 3 55000\n",
      "Success: 600 files 7 30000\n",
      "Success: 700 files 5 75000\n",
      "Success: 800 files 6 78000\n",
      "Success: 900 files 7 25000\n",
      "Success: 1000 files 3 38000\n",
      "Success: 1100 files 6 2000\n",
      "Success: 1200 files 7 23000\n",
      "Success: 1300 files 3 60000\n",
      "Success: 1400 files 5 8000\n",
      "Success: 1500 files 7 33000\n",
      "Success: 1600 files 4 65000\n",
      "Finish the task\n"
     ]
    }
   ],
   "source": [
    "# Loop over the environment audio: random audio number, apply gain, and overlay\n",
    "for i, env_file in enumerate(env_files):\n",
    "    num_of_audio = random.randint(3,7)\n",
    "    try:\n",
    "        tgt_name = random.sample(tgt_files, num_of_audio)\n",
    "        tgt_audio = AudioSegment.from_file(tgt_path + '/' + tgt_name[0])\n",
    "        env_audio = AudioSegment.from_file(env_path + '/' + env_file)\n",
    "        \n",
    "        # Gain base is from 20% decibel of environment. Gain value need to be integer.\n",
    "        gain_base = int(abs(env_audio.dBFS * 0.2))\n",
    "\n",
    "        gain = random.randint(0, gain_base)\n",
    "        \n",
    "        # Set the first audio gain\n",
    "        tgt_audio = custom_apply_gain(env_audio.dBFS, tgt_audio, gain)\n",
    "        \n",
    "        for audio in tgt_name[1:]:\n",
    "            segment = AudioSegment.from_file(tgt_path + '/' + audio)\n",
    "            \n",
    "            gained_audio = custom_apply_gain(env_audio.dBFS, segment, gain)\n",
    "            \n",
    "            tgt_audio = tgt_audio + gained_audio\n",
    "\n",
    "        # position should beware of too late start overlay\n",
    "        position = random.randint(0, int(env_audio.duration_seconds - (num_of_audio * 2))) * 1000 \n",
    "        overlay_audio = env_audio.overlay(tgt_audio, position=position)\n",
    "        overlay_audio.export(\"{}/{}\".format(dst_path, env_file),format='wav')\n",
    "        \n",
    "        if(i%100 == 0):\n",
    "            print(\"Success:\", i, \"files\", num_of_audio, position)\n",
    "    except Exception as e:\n",
    "        print(e)\n",
    "        pass\n",
    "print(\"Finish the task\")"
   ]
  },
  {
   "cell_type": "code",
   "execution_count": null,
   "metadata": {},
   "outputs": [],
   "source": []
  }
 ],
 "metadata": {
  "kernelspec": {
   "display_name": "Python 3.7.7 64-bit",
   "language": "python",
   "name": "python37764bit8e68696bc27c4d998c1cd2e77e9d4786"
  },
  "language_info": {
   "codemirror_mode": {
    "name": "ipython",
    "version": 3
   },
   "file_extension": ".py",
   "mimetype": "text/x-python",
   "name": "python",
   "nbconvert_exporter": "python",
   "pygments_lexer": "ipython3",
   "version": "3.7.7"
  }
 },
 "nbformat": 4,
 "nbformat_minor": 4
}
